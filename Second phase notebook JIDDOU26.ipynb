{
 "cells": [
  {
   "cell_type": "markdown",
   "id": "6117e80a-8869-47fa-bdae-f7e86c4fa8fa",
   "metadata": {},
   "source": [
    "<a id='top'></a>\n",
    "<h1 style=\"font-family:Bahnschrift Condensed;text-align:center; font-size:240%;\">Mauritanian Number-plate recognition challenge</h1>\n",
    "<h2 style=\"font-family:Bahnschrift Condensed;text-align:center; font-size:240%;\">2024 National Data Science Competition by RIMAI: License Plate Recognition in Mauritania - Data Science Phase</h2>\n",
    "<div style=\"text-align:center;\">\n",
    "    <img src=\"https://www.rim-ai.com/assets/logo.png\" style=\"width:30%; height:auto;\" alt=\"Logo RIM AI\">\n",
    "</div>\n",
    "\n",
    "- **El Moustapha Cheikh Jiddou** \n",
    "- **Pseudo: Jiddou26**\n",
    "- **Email:** elmoustapha.cheikh.jiddou@gmail.com\n",
    "\n",
    "<p style=\"font-family:Bahnschrift Condensed;font-size:120%; text-align:justify;\">\n",
    "    The second phase of the 2024 National Data Science Competition by RIMAI shifts the focus to the heart of the challenge: data science. After gathering diverse and high-quality images in the first phase, this stage is dedicated to developing and fine-tuning algorithms for the automatic recognition of Mauritanian license plates.\n",
    "</p>\n",
    "\n",
    "<p style=\"font-family:Bahnschrift Condensed;font-size:120%; text-align:justify;\">\n",
    "    Participants are invited to leverage their data science skills to create robust models capable of accurately identifying and reading license plates under various conditions. This phase is crucial, as it will test the effectiveness of the algorithms in real-world scenarios, pushing the boundaries of AI and machine learning in the context of Mauritanian license plate recognition.\n",
    "</p>\n",
    "\n",
    "<p style=\"font-family:Bahnschrift Condensed;font-size:120%; text-align:justify;\">\n",
    "    The competition aims to drive innovation in computer vision, with a particular emphasis on enhancing the accuracy, efficiency, and scalability of the solutions. The challenge is designed not only to assess technical prowess but also to encourage creativity in overcoming the unique challenges presented by this application.\n",
    "</p>"
   ]
  },
  {
   "cell_type": "markdown",
   "id": "67d29537-3def-43c9-a6d2-307b4657b4c6",
   "metadata": {},
   "source": [
    "<div align=\"center\"><span style=\"font-family:Bahnschrift Condensed;font-size:40px\"><b>Section 1: Importing Necessary Libraries</b></span></div>"
   ]
  },
  {
   "cell_type": "code",
   "execution_count": 4,
   "id": "6326c5db-51ef-491a-9eec-678acca2d08d",
   "metadata": {},
   "outputs": [],
   "source": [
    "import os\n",
    "import cv2\n",
    "import numpy as np\n",
    "from shutil import copyfile\n",
    "from easyocr import Reader\n",
    "import pytesseract\n",
    "from tensorflow.keras.models import Sequential, load_model\n",
    "from tensorflow.keras.layers import Conv2D, MaxPooling2D, Flatten, Dense, Dropout, BatchNormalization, Input\n",
    "from tensorflow.keras.optimizers import Adam\n",
    "from tensorflow.keras.preprocessing.sequence import pad_sequences\n",
    "from tensorflow.keras.preprocessing.image import ImageDataGenerator\n",
    "from sklearn.preprocessing import LabelEncoder\n",
    "from tensorflow.keras.utils import to_categorical\n",
    "import matplotlib.pyplot as plt\n",
    "import math\n",
    "import pandas as pd"
   ]
  },
  {
   "cell_type": "markdown",
   "id": "6df6ca52-51a7-41c9-9636-a0cc9e5bd2c4",
   "metadata": {
    "tags": []
   },
   "source": [
    "<div align=\"center\"><span style=\"font-family:Bahnschrift Condensed;font-size:40px\"><b>Section 2: License Plate Detection and Transformation Functions</b></span></div>"
   ]
  },
  {
   "cell_type": "code",
   "execution_count": 5,
   "id": "74ccf9ec-135a-490e-8210-87d6c0a2bbbc",
   "metadata": {},
   "outputs": [],
   "source": [
    "def order_points(pts):\n",
    "    rect = np.zeros((4, 2), dtype=\"float32\")\n",
    "    s = pts.sum(axis=1)\n",
    "    rect[0] = pts[np.argmin(s)]\n",
    "    rect[2] = pts[np.argmax(s)]\n",
    "    diff = np.diff(pts, axis=1)\n",
    "    rect[1] = pts[np.argmin(diff)]\n",
    "    rect[3] = pts[np.argmax(diff)]\n",
    "    return rect\n",
    "\n",
    "def four_point_transform(image, pts):\n",
    "    rect = order_points(pts)\n",
    "    (tl, tr, br, bl) = rect\n",
    "    widthA = np.sqrt(((br[0] - bl[0]) ** 2) + ((br[1] - bl[1]) ** 2))\n",
    "    widthB = np.sqrt(((tr[0] - tl[0]) ** 2) + ((tr[1] - tl[1]) ** 2))\n",
    "    maxWidth = max(int(widthA), int(widthB))\n",
    "    heightA = np.sqrt(((tr[0] - br[0]) ** 2) + ((tr[1] - br[1]) ** 2))\n",
    "    heightB = np.sqrt(((tl[0] - bl[0]) ** 2) + ((tl[1] - bl[1]) ** 2))\n",
    "    maxHeight = max(int(heightA), int(heightB))\n",
    "    dst = np.array([\n",
    "        [0, 0],\n",
    "        [maxWidth - 1, 0],\n",
    "        [maxWidth - 1, maxHeight - 1],\n",
    "        [0, maxHeight - 1]], dtype=\"float32\")\n",
    "    M = cv2.getPerspectiveTransform(rect, dst)\n",
    "    warped = cv2.warpPerspective(image, M, (maxWidth, maxHeight))\n",
    "    return warped"
   ]
  },
  {
   "cell_type": "markdown",
   "id": "b5285497-a637-4365-91f3-7ed1090ab26b",
   "metadata": {},
   "source": [
    "<div align=\"center\"><span style=\"font-family:Bahnschrift Condensed;font-size:40px\"><b>Section 3: Processing and Annotating Images</b></span></div>"
   ]
  },
  {
   "cell_type": "code",
   "execution_count": 6,
   "id": "efce19ad-0825-4081-9093-ff5efb043881",
   "metadata": {},
   "outputs": [],
   "source": [
    "def process_single_image(image_path, output_dir):\n",
    "    car = cv2.imread(image_path)\n",
    "    gray = cv2.cvtColor(car, cv2.COLOR_BGR2GRAY)\n",
    "    blur = cv2.GaussianBlur(gray, (5, 5), 0)\n",
    "    edged = cv2.Canny(blur, 50, 200)\n",
    "    cont, _ = cv2.findContours(edged, cv2.RETR_TREE, cv2.CHAIN_APPROX_SIMPLE)\n",
    "    cont = sorted(cont, key=cv2.contourArea, reverse=True)[:5]\n",
    "\n",
    "    plate_cnt = None\n",
    "    for c in cont:\n",
    "        arc = cv2.arcLength(c, True)\n",
    "        approx = cv2.approxPolyDP(c, 0.02 * arc, True)\n",
    "        if len(approx) == 4:\n",
    "            plate_cnt = approx\n",
    "            break\n",
    "\n",
    "    if plate_cnt is None:\n",
    "        print(f\"No license plate detected in {image_path}.\")\n",
    "        return None\n",
    "\n",
    "    warped_plate = four_point_transform(gray, plate_cnt.reshape(4, 2))\n",
    "    plate = cv2.resize(warped_plate, None, fx=2, fy=2, interpolation=cv2.INTER_CUBIC)\n",
    "    reader = Reader(['en'])\n",
    "    detection = reader.readtext(plate)\n",
    "\n",
    "    if len(detection) == 0:\n",
    "        print(f\"Unable to read license plate text in {image_path}.\")\n",
    "        return None\n",
    "\n",
    "    text = detection[0][1]\n",
    "    filtered_text = ''.join([c for c in text if c.isalnum()])\n",
    "    output_filename = os.path.join(output_dir, f'{filtered_text}.jpg')\n",
    "    cv2.imwrite(output_filename, car)\n",
    "\n",
    "    return filtered_text, output_filename"
   ]
  },
  {
   "cell_type": "markdown",
   "id": "4b266e3e-afdd-4d15-82b3-40002e516a9f",
   "metadata": {},
   "source": [
    "<div align=\"center\"><span style=\"font-family:Bahnschrift Condensed;font-size:40px\"><b>Section 4: Processing Images in Folders</b></span></div>"
   ]
  },
  {
   "cell_type": "code",
   "execution_count": null,
   "id": "ccef06c7-b71f-40ae-81cd-d93a77f0b0a7",
   "metadata": {},
   "outputs": [
    {
     "name": "stderr",
     "output_type": "stream",
     "text": [
      "Neither CUDA nor MPS are available - defaulting to CPU. Note: This module is much faster with a GPU.\n"
     ]
    },
    {
     "name": "stdout",
     "output_type": "stream",
     "text": [
      "No license plate detected in train_data\\img_1.jpg.\n",
      "Processed: img_1.jpg -> No license plate detected or unable to read text.\n"
     ]
    },
    {
     "name": "stderr",
     "output_type": "stream",
     "text": [
      "Neither CUDA nor MPS are available - defaulting to CPU. Note: This module is much faster with a GPU.\n"
     ]
    },
    {
     "name": "stdout",
     "output_type": "stream",
     "text": [
      "Processed: img_10.jpg -> Saved as: processed_images\\5115AMOdi.jpg\n",
      "Processed: img_100.jpg -> Saved as: processed_images\\7812AA02.jpg\n",
      "No license plate detected in train_data\\img_102.jpg.\n",
      "Processed: img_102.jpg -> No license plate detected or unable to read text.\n"
     ]
    },
    {
     "name": "stderr",
     "output_type": "stream",
     "text": [
      "Neither CUDA nor MPS are available - defaulting to CPU. Note: This module is much faster with a GPU.\n"
     ]
    },
    {
     "name": "stdout",
     "output_type": "stream",
     "text": [
      "Unable to read license plate text in train_data\\img_103.jpg.\n"
     ]
    },
    {
     "name": "stderr",
     "output_type": "stream",
     "text": [
      "Neither CUDA nor MPS are available - defaulting to CPU. Note: This module is much faster with a GPU.\n"
     ]
    },
    {
     "name": "stdout",
     "output_type": "stream",
     "text": [
      "Processed: img_103.jpg -> No license plate detected or unable to read text.\n"
     ]
    },
    {
     "name": "stderr",
     "output_type": "stream",
     "text": [
      "Neither CUDA nor MPS are available - defaulting to CPU. Note: This module is much faster with a GPU.\n"
     ]
    },
    {
     "name": "stdout",
     "output_type": "stream",
     "text": [
      "Processed: img_106.jpg -> Saved as: processed_images\\1277AY00.jpg\n",
      "No license plate detected in train_data\\img_107.jpg.\n",
      "Processed: img_107.jpg -> No license plate detected or unable to read text.\n"
     ]
    },
    {
     "name": "stderr",
     "output_type": "stream",
     "text": [
      "Neither CUDA nor MPS are available - defaulting to CPU. Note: This module is much faster with a GPU.\n"
     ]
    },
    {
     "name": "stdout",
     "output_type": "stream",
     "text": [
      "Processed: img_109.jpg -> Saved as: processed_images\\6602AB07.jpg\n",
      "No license plate detected in train_data\\img_111.jpg.\n",
      "Processed: img_111.jpg -> No license plate detected or unable to read text.\n"
     ]
    },
    {
     "name": "stderr",
     "output_type": "stream",
     "text": [
      "Neither CUDA nor MPS are available - defaulting to CPU. Note: This module is much faster with a GPU.\n"
     ]
    },
    {
     "name": "stdout",
     "output_type": "stream",
     "text": [
      "Processed: img_112.jpg -> Saved as: processed_images\\636AR12.jpg\n",
      "No license plate detected in train_data\\img_115.jpg.\n",
      "Processed: img_115.jpg -> No license plate detected or unable to read text.\n"
     ]
    },
    {
     "name": "stderr",
     "output_type": "stream",
     "text": [
      "Neither CUDA nor MPS are available - defaulting to CPU. Note: This module is much faster with a GPU.\n"
     ]
    },
    {
     "name": "stdout",
     "output_type": "stream",
     "text": [
      "Processed: img_118.jpg -> Saved as: processed_images\\3664AB061.jpg\n"
     ]
    },
    {
     "name": "stderr",
     "output_type": "stream",
     "text": [
      "Neither CUDA nor MPS are available - defaulting to CPU. Note: This module is much faster with a GPU.\n"
     ]
    },
    {
     "name": "stdout",
     "output_type": "stream",
     "text": [
      "Processed: img_119.jpg -> Saved as: processed_images\\5070APoO.jpg\n"
     ]
    },
    {
     "name": "stderr",
     "output_type": "stream",
     "text": [
      "Neither CUDA nor MPS are available - defaulting to CPU. Note: This module is much faster with a GPU.\n"
     ]
    },
    {
     "name": "stdout",
     "output_type": "stream",
     "text": [
      "Unable to read license plate text in train_data\\img_12.jpg.\n",
      "Processed: img_12.jpg -> No license plate detected or unable to read text.\n"
     ]
    },
    {
     "name": "stderr",
     "output_type": "stream",
     "text": [
      "Neither CUDA nor MPS are available - defaulting to CPU. Note: This module is much faster with a GPU.\n"
     ]
    },
    {
     "name": "stdout",
     "output_type": "stream",
     "text": [
      "Processed: img_120.jpg -> Saved as: processed_images\\3510AB078.jpg\n"
     ]
    },
    {
     "name": "stderr",
     "output_type": "stream",
     "text": [
      "Neither CUDA nor MPS are available - defaulting to CPU. Note: This module is much faster with a GPU.\n"
     ]
    },
    {
     "name": "stdout",
     "output_type": "stream",
     "text": [
      "Unable to read license plate text in train_data\\img_123.jpg.\n",
      "Processed: img_123.jpg -> No license plate detected or unable to read text.\n",
      "No license plate detected in train_data\\img_126.jpg.\n",
      "Processed: img_126.jpg -> No license plate detected or unable to read text.\n"
     ]
    },
    {
     "name": "stderr",
     "output_type": "stream",
     "text": [
      "Neither CUDA nor MPS are available - defaulting to CPU. Note: This module is much faster with a GPU.\n"
     ]
    },
    {
     "name": "stdout",
     "output_type": "stream",
     "text": [
      "Processed: img_128.jpg -> Saved as: processed_images\\8900AA07.jpg\n"
     ]
    },
    {
     "name": "stderr",
     "output_type": "stream",
     "text": [
      "Neither CUDA nor MPS are available - defaulting to CPU. Note: This module is much faster with a GPU.\n"
     ]
    },
    {
     "name": "stdout",
     "output_type": "stream",
     "text": [
      "Unable to read license plate text in train_data\\img_129.jpg.\n",
      "Processed: img_129.jpg -> No license plate detected or unable to read text.\n"
     ]
    },
    {
     "name": "stderr",
     "output_type": "stream",
     "text": [
      "Neither CUDA nor MPS are available - defaulting to CPU. Note: This module is much faster with a GPU.\n"
     ]
    },
    {
     "name": "stdout",
     "output_type": "stream",
     "text": [
      "Processed: img_130.jpg -> Saved as: processed_images\\25349806.jpg\n"
     ]
    },
    {
     "name": "stderr",
     "output_type": "stream",
     "text": [
      "Neither CUDA nor MPS are available - defaulting to CPU. Note: This module is much faster with a GPU.\n"
     ]
    },
    {
     "name": "stdout",
     "output_type": "stream",
     "text": [
      "Unable to read license plate text in train_data\\img_133.jpg.\n",
      "Processed: img_133.jpg -> No license plate detected or unable to read text.\n"
     ]
    },
    {
     "name": "stderr",
     "output_type": "stream",
     "text": [
      "Neither CUDA nor MPS are available - defaulting to CPU. Note: This module is much faster with a GPU.\n"
     ]
    },
    {
     "name": "stdout",
     "output_type": "stream",
     "text": [
      "Processed: img_137.jpg -> Saved as: processed_images\\3079AMOO.jpg\n"
     ]
    },
    {
     "name": "stderr",
     "output_type": "stream",
     "text": [
      "Neither CUDA nor MPS are available - defaulting to CPU. Note: This module is much faster with a GPU.\n"
     ]
    },
    {
     "name": "stdout",
     "output_type": "stream",
     "text": [
      "Processed: img_139.jpg -> Saved as: processed_images\\17O0AAO5.jpg\n"
     ]
    },
    {
     "name": "stderr",
     "output_type": "stream",
     "text": [
      "Neither CUDA nor MPS are available - defaulting to CPU. Note: This module is much faster with a GPU.\n"
     ]
    },
    {
     "name": "stdout",
     "output_type": "stream",
     "text": [
      "Processed: img_140.jpg -> Saved as: processed_images\\147aX00.jpg\n"
     ]
    },
    {
     "name": "stderr",
     "output_type": "stream",
     "text": [
      "Neither CUDA nor MPS are available - defaulting to CPU. Note: This module is much faster with a GPU.\n"
     ]
    },
    {
     "name": "stdout",
     "output_type": "stream",
     "text": [
      "Unable to read license plate text in train_data\\img_142.jpg.\n",
      "Processed: img_142.jpg -> No license plate detected or unable to read text.\n"
     ]
    },
    {
     "name": "stderr",
     "output_type": "stream",
     "text": [
      "Neither CUDA nor MPS are available - defaulting to CPU. Note: This module is much faster with a GPU.\n"
     ]
    },
    {
     "name": "stdout",
     "output_type": "stream",
     "text": [
      "Processed: img_144.jpg -> Saved as: processed_images\\1709AA05.jpg\n",
      "No license plate detected in train_data\\img_146.jpg.\n",
      "Processed: img_146.jpg -> No license plate detected or unable to read text.\n",
      "No license plate detected in train_data\\img_147.jpg.\n",
      "Processed: img_147.jpg -> No license plate detected or unable to read text.\n"
     ]
    },
    {
     "name": "stderr",
     "output_type": "stream",
     "text": [
      "Neither CUDA nor MPS are available - defaulting to CPU. Note: This module is much faster with a GPU.\n"
     ]
    },
    {
     "name": "stdout",
     "output_type": "stream",
     "text": [
      "Unable to read license plate text in train_data\\img_148.jpg.\n",
      "Processed: img_148.jpg -> No license plate detected or unable to read text.\n",
      "Processed: img_149.jpg -> Saved as: processed_images\\1428AL00.jpg\n"
     ]
    },
    {
     "name": "stderr",
     "output_type": "stream",
     "text": [
      "Neither CUDA nor MPS are available - defaulting to CPU. Note: This module is much faster with a GPU.\n"
     ]
    },
    {
     "name": "stdout",
     "output_type": "stream",
     "text": [
      "Processed: img_150.jpg -> Saved as: processed_images\\9227.jpg\n"
     ]
    },
    {
     "name": "stderr",
     "output_type": "stream",
     "text": [
      "Neither CUDA nor MPS are available - defaulting to CPU. Note: This module is much faster with a GPU.\n"
     ]
    },
    {
     "name": "stdout",
     "output_type": "stream",
     "text": [
      "No license plate detected in train_data\\img_151.jpg.\n",
      "Processed: img_151.jpg -> No license plate detected or unable to read text.\n",
      "No license plate detected in train_data\\img_156.jpg.\n",
      "Processed: img_156.jpg -> No license plate detected or unable to read text.\n"
     ]
    },
    {
     "name": "stderr",
     "output_type": "stream",
     "text": [
      "Neither CUDA nor MPS are available - defaulting to CPU. Note: This module is much faster with a GPU.\n"
     ]
    },
    {
     "name": "stdout",
     "output_type": "stream",
     "text": [
      "Processed: img_157.jpg -> Saved as: processed_images\\8594AA07.jpg\n",
      "No license plate detected in train_data\\img_158.jpg.\n",
      "Processed: img_158.jpg -> No license plate detected or unable to read text.\n"
     ]
    },
    {
     "name": "stderr",
     "output_type": "stream",
     "text": [
      "Neither CUDA nor MPS are available - defaulting to CPU. Note: This module is much faster with a GPU.\n"
     ]
    },
    {
     "name": "stdout",
     "output_type": "stream",
     "text": [
      "Unable to read license plate text in train_data\\img_159.jpg.\n",
      "Processed: img_159.jpg -> No license plate detected or unable to read text.\n",
      "Processed: img_16.jpg -> Saved as: processed_images\\IB06AYOO.jpg\n",
      "No license plate detected in train_data\\img_162.jpg.\n",
      "Processed: img_162.jpg -> No license plate detected or unable to read text.\n",
      "No license plate detected in train_data\\img_163.jpg.\n",
      "Processed: img_163.jpg -> No license plate detected or unable to read text.\n",
      "No license plate detected in train_data\\img_164.jpg.\n",
      "Processed: img_164.jpg -> No license plate detected or unable to read text.\n"
     ]
    },
    {
     "name": "stderr",
     "output_type": "stream",
     "text": [
      "Neither CUDA nor MPS are available - defaulting to CPU. Note: This module is much faster with a GPU.\n",
      "Neither CUDA nor MPS are available - defaulting to CPU. Note: This module is much faster with a GPU.\n"
     ]
    },
    {
     "name": "stdout",
     "output_type": "stream",
     "text": [
      "Processed: img_165.jpg -> Saved as: processed_images\\T.jpg\n"
     ]
    },
    {
     "name": "stderr",
     "output_type": "stream",
     "text": [
      "Neither CUDA nor MPS are available - defaulting to CPU. Note: This module is much faster with a GPU.\n"
     ]
    },
    {
     "name": "stdout",
     "output_type": "stream",
     "text": [
      "Processed: img_166.jpg -> Saved as: processed_images\\n.jpg\n"
     ]
    },
    {
     "name": "stderr",
     "output_type": "stream",
     "text": [
      "Neither CUDA nor MPS are available - defaulting to CPU. Note: This module is much faster with a GPU.\n"
     ]
    },
    {
     "name": "stdout",
     "output_type": "stream",
     "text": [
      "Processed: img_17.jpg -> Saved as: processed_images\\3726AN00.jpg\n",
      "Processed: img_172.jpg -> Saved as: processed_images\\7526AB06.jpg\n"
     ]
    },
    {
     "name": "stderr",
     "output_type": "stream",
     "text": [
      "Neither CUDA nor MPS are available - defaulting to CPU. Note: This module is much faster with a GPU.\n"
     ]
    },
    {
     "name": "stdout",
     "output_type": "stream",
     "text": [
      "No license plate detected in train_data\\img_175.jpg.\n",
      "Processed: img_175.jpg -> No license plate detected or unable to read text.\n",
      "No license plate detected in train_data\\img_179.jpg.\n",
      "Processed: img_179.jpg -> No license plate detected or unable to read text.\n"
     ]
    },
    {
     "name": "stderr",
     "output_type": "stream",
     "text": [
      "Neither CUDA nor MPS are available - defaulting to CPU. Note: This module is much faster with a GPU.\n"
     ]
    },
    {
     "name": "stdout",
     "output_type": "stream",
     "text": [
      "Processed: img_18.jpg -> Saved as: processed_images\\0505BAOO.jpg\n"
     ]
    },
    {
     "name": "stderr",
     "output_type": "stream",
     "text": [
      "Neither CUDA nor MPS are available - defaulting to CPU. Note: This module is much faster with a GPU.\n"
     ]
    },
    {
     "name": "stdout",
     "output_type": "stream",
     "text": [
      "Processed: img_181.jpg -> Saved as: processed_images\\5003AA03.jpg\n",
      "Processed: img_183.jpg -> Saved as: processed_images\\2321o.jpg\n",
      "No license plate detected in train_data\\img_185.jpg.\n",
      "Processed: img_185.jpg -> No license plate detected or unable to read text.\n"
     ]
    },
    {
     "name": "stderr",
     "output_type": "stream",
     "text": [
      "Neither CUDA nor MPS are available - defaulting to CPU. Note: This module is much faster with a GPU.\n",
      "Neither CUDA nor MPS are available - defaulting to CPU. Note: This module is much faster with a GPU.\n"
     ]
    },
    {
     "name": "stdout",
     "output_type": "stream",
     "text": [
      "Processed: img_189.jpg -> Saved as: processed_images\\0732AA05.jpg\n",
      "Processed: img_190.jpg -> Saved as: processed_images\\2119AA09.jpg\n",
      "No license plate detected in train_data\\img_191.jpg.\n",
      "Processed: img_191.jpg -> No license plate detected or unable to read text.\n"
     ]
    },
    {
     "name": "stderr",
     "output_type": "stream",
     "text": [
      "Neither CUDA nor MPS are available - defaulting to CPU. Note: This module is much faster with a GPU.\n",
      "Neither CUDA nor MPS are available - defaulting to CPU. Note: This module is much faster with a GPU.\n"
     ]
    },
    {
     "name": "stdout",
     "output_type": "stream",
     "text": [
      "Processed: img_193.jpg -> Saved as: processed_images\\8039AyOe.jpg\n",
      "Unable to read license plate text in train_data\\img_196.jpg.\n",
      "Processed: img_196.jpg -> No license plate detected or unable to read text.\n"
     ]
    },
    {
     "name": "stderr",
     "output_type": "stream",
     "text": [
      "Neither CUDA nor MPS are available - defaulting to CPU. Note: This module is much faster with a GPU.\n"
     ]
    },
    {
     "name": "stdout",
     "output_type": "stream",
     "text": [
      "No license plate detected in train_data\\img_197.jpg.\n",
      "Processed: img_197.jpg -> No license plate detected or unable to read text.\n",
      "Unable to read license plate text in train_data\\img_20.jpg.\n",
      "Processed: img_20.jpg -> No license plate detected or unable to read text.\n"
     ]
    },
    {
     "name": "stderr",
     "output_type": "stream",
     "text": [
      "Neither CUDA nor MPS are available - defaulting to CPU. Note: This module is much faster with a GPU.\n"
     ]
    },
    {
     "name": "stdout",
     "output_type": "stream",
     "text": [
      "No license plate detected in train_data\\img_200.jpg.\n",
      "Processed: img_200.jpg -> No license plate detected or unable to read text.\n"
     ]
    },
    {
     "name": "stderr",
     "output_type": "stream",
     "text": [
      "Neither CUDA nor MPS are available - defaulting to CPU. Note: This module is much faster with a GPU.\n"
     ]
    },
    {
     "name": "stdout",
     "output_type": "stream",
     "text": [
      "Processed: img_202.jpg -> Saved as: processed_images\\56203303.jpg\n",
      "Processed: img_203.jpg -> Saved as: processed_images\\Ulztay00.jpg\n",
      "No license plate detected in train_data\\img_204.jpg.\n",
      "Processed: img_204.jpg -> No license plate detected or unable to read text.\n",
      "No license plate detected in train_data\\img_207.jpg.\n",
      "Processed: img_207.jpg -> No license plate detected or unable to read text.\n"
     ]
    },
    {
     "name": "stderr",
     "output_type": "stream",
     "text": [
      "Neither CUDA nor MPS are available - defaulting to CPU. Note: This module is much faster with a GPU.\n"
     ]
    },
    {
     "name": "stdout",
     "output_type": "stream",
     "text": [
      "Unable to read license plate text in train_data\\img_208.jpg.\n",
      "Processed: img_208.jpg -> No license plate detected or unable to read text.\n"
     ]
    },
    {
     "name": "stderr",
     "output_type": "stream",
     "text": [
      "Neither CUDA nor MPS are available - defaulting to CPU. Note: This module is much faster with a GPU.\n",
      "Neither CUDA nor MPS are available - defaulting to CPU. Note: This module is much faster with a GPU.\n"
     ]
    },
    {
     "name": "stdout",
     "output_type": "stream",
     "text": [
      "Processed: img_209.jpg -> Saved as: processed_images\\2539aa12.jpg\n",
      "No license plate detected in train_data\\img_210.jpg.\n",
      "Processed: img_210.jpg -> No license plate detected or unable to read text.\n",
      "Processed: img_211.jpg -> Saved as: processed_images\\2336AA05.jpg\n",
      "No license plate detected in train_data\\img_212.jpg.\n",
      "Processed: img_212.jpg -> No license plate detected or unable to read text.\n"
     ]
    },
    {
     "name": "stderr",
     "output_type": "stream",
     "text": [
      "Neither CUDA nor MPS are available - defaulting to CPU. Note: This module is much faster with a GPU.\n"
     ]
    },
    {
     "name": "stdout",
     "output_type": "stream",
     "text": [
      "Processed: img_213.jpg -> Saved as: processed_images\\5521.jpg\n",
      "No license plate detected in train_data\\img_215.jpg.\n",
      "Processed: img_215.jpg -> No license plate detected or unable to read text.\n"
     ]
    },
    {
     "name": "stderr",
     "output_type": "stream",
     "text": [
      "Neither CUDA nor MPS are available - defaulting to CPU. Note: This module is much faster with a GPU.\n"
     ]
    },
    {
     "name": "stdout",
     "output_type": "stream",
     "text": [
      "No license plate detected in train_data\\img_216.jpg.\n",
      "Processed: img_216.jpg -> No license plate detected or unable to read text.\n"
     ]
    },
    {
     "name": "stderr",
     "output_type": "stream",
     "text": [
      "Neither CUDA nor MPS are available - defaulting to CPU. Note: This module is much faster with a GPU.\n"
     ]
    },
    {
     "name": "stdout",
     "output_type": "stream",
     "text": [
      "Processed: img_221.jpg -> Saved as: processed_images\\9530AA07.jpg\n"
     ]
    },
    {
     "name": "stderr",
     "output_type": "stream",
     "text": [
      "Neither CUDA nor MPS are available - defaulting to CPU. Note: This module is much faster with a GPU.\n"
     ]
    },
    {
     "name": "stdout",
     "output_type": "stream",
     "text": [
      "Processed: img_227.jpg -> Saved as: processed_images\\086lAB06.jpg\n"
     ]
    },
    {
     "name": "stderr",
     "output_type": "stream",
     "text": [
      "Neither CUDA nor MPS are available - defaulting to CPU. Note: This module is much faster with a GPU.\n"
     ]
    },
    {
     "name": "stdout",
     "output_type": "stream",
     "text": [
      "Processed: img_228.jpg -> Saved as: processed_images\\ZIUIeI.jpg\n"
     ]
    },
    {
     "name": "stderr",
     "output_type": "stream",
     "text": [
      "Neither CUDA nor MPS are available - defaulting to CPU. Note: This module is much faster with a GPU.\n"
     ]
    },
    {
     "name": "stdout",
     "output_type": "stream",
     "text": [
      "Unable to read license plate text in train_data\\img_229.jpg.\n",
      "Processed: img_229.jpg -> No license plate detected or unable to read text.\n"
     ]
    },
    {
     "name": "stderr",
     "output_type": "stream",
     "text": [
      "Neither CUDA nor MPS are available - defaulting to CPU. Note: This module is much faster with a GPU.\n"
     ]
    },
    {
     "name": "stdout",
     "output_type": "stream",
     "text": [
      "Processed: img_233.jpg -> Saved as: processed_images\\7870AA0G.jpg\n",
      "Processed: img_235.jpg -> Saved as: processed_images\\2352Ha05.jpg\n",
      "No license plate detected in train_data\\img_236.jpg.\n",
      "Processed: img_236.jpg -> No license plate detected or unable to read text.\n"
     ]
    },
    {
     "name": "stderr",
     "output_type": "stream",
     "text": [
      "Neither CUDA nor MPS are available - defaulting to CPU. Note: This module is much faster with a GPU.\n"
     ]
    },
    {
     "name": "stdout",
     "output_type": "stream",
     "text": [
      "Processed: img_24.jpg -> Saved as: processed_images\\75AUOO.jpg\n"
     ]
    },
    {
     "name": "stderr",
     "output_type": "stream",
     "text": [
      "Neither CUDA nor MPS are available - defaulting to CPU. Note: This module is much faster with a GPU.\n",
      "Neither CUDA nor MPS are available - defaulting to CPU. Note: This module is much faster with a GPU.\n"
     ]
    },
    {
     "name": "stdout",
     "output_type": "stream",
     "text": [
      "Processed: img_240.jpg -> Saved as: processed_images\\5438AA06.jpg\n"
     ]
    },
    {
     "name": "stderr",
     "output_type": "stream",
     "text": [
      "Neither CUDA nor MPS are available - defaulting to CPU. Note: This module is much faster with a GPU.\n"
     ]
    },
    {
     "name": "stdout",
     "output_type": "stream",
     "text": [
      "Unable to read license plate text in train_data\\img_243.jpg.\n",
      "Processed: img_243.jpg -> No license plate detected or unable to read text.\n"
     ]
    },
    {
     "name": "stderr",
     "output_type": "stream",
     "text": [
      "Neither CUDA nor MPS are available - defaulting to CPU. Note: This module is much faster with a GPU.\n"
     ]
    },
    {
     "name": "stdout",
     "output_type": "stream",
     "text": [
      "Processed: img_244.jpg -> Saved as: processed_images\\1341a806.jpg\n"
     ]
    },
    {
     "name": "stderr",
     "output_type": "stream",
     "text": [
      "Neither CUDA nor MPS are available - defaulting to CPU. Note: This module is much faster with a GPU.\n"
     ]
    },
    {
     "name": "stdout",
     "output_type": "stream",
     "text": [
      "Processed: img_246.jpg -> Saved as: processed_images\\7360ARO0.jpg\n",
      "Processed: img_248.jpg -> Saved as: processed_images\\66024B07.jpg\n"
     ]
    },
    {
     "name": "stderr",
     "output_type": "stream",
     "text": [
      "Neither CUDA nor MPS are available - defaulting to CPU. Note: This module is much faster with a GPU.\n"
     ]
    },
    {
     "name": "stdout",
     "output_type": "stream",
     "text": [
      "No license plate detected in train_data\\img_249.jpg.\n",
      "Processed: img_249.jpg -> No license plate detected or unable to read text.\n",
      "Unable to read license plate text in train_data\\img_25.jpg.\n",
      "Processed: img_25.jpg -> No license plate detected or unable to read text.\n"
     ]
    },
    {
     "name": "stderr",
     "output_type": "stream",
     "text": [
      "Neither CUDA nor MPS are available - defaulting to CPU. Note: This module is much faster with a GPU.\n"
     ]
    },
    {
     "name": "stdout",
     "output_type": "stream",
     "text": [
      "No license plate detected in train_data\\img_250.jpg.\n",
      "Processed: img_250.jpg -> No license plate detected or unable to read text.\n"
     ]
    },
    {
     "name": "stderr",
     "output_type": "stream",
     "text": [
      "Neither CUDA nor MPS are available - defaulting to CPU. Note: This module is much faster with a GPU.\n"
     ]
    },
    {
     "name": "stdout",
     "output_type": "stream",
     "text": [
      "Processed: img_252.jpg -> Saved as: processed_images\\BeLARQO.jpg\n",
      "No license plate detected in train_data\\img_253.jpg.\n",
      "Processed: img_253.jpg -> No license plate detected or unable to read text.\n",
      "No license plate detected in train_data\\img_259.jpg.\n",
      "Processed: img_259.jpg -> No license plate detected or unable to read text.\n",
      "No license plate detected in train_data\\img_26.jpg.\n",
      "Processed: img_26.jpg -> No license plate detected or unable to read text.\n",
      "Unable to read license plate text in train_data\\img_264.jpg.\n",
      "Processed: img_264.jpg -> No license plate detected or unable to read text.\n",
      "No license plate detected in train_data\\img_265.jpg.\n",
      "Processed: img_265.jpg -> No license plate detected or unable to read text.\n",
      "No license plate detected in train_data\\img_266.jpg.\n",
      "Processed: img_266.jpg -> No license plate detected or unable to read text.\n"
     ]
    },
    {
     "name": "stderr",
     "output_type": "stream",
     "text": [
      "Neither CUDA nor MPS are available - defaulting to CPU. Note: This module is much faster with a GPU.\n"
     ]
    },
    {
     "name": "stdout",
     "output_type": "stream",
     "text": [
      "No license plate detected in train_data\\img_267.jpg.\n",
      "Processed: img_267.jpg -> No license plate detected or unable to read text.\n"
     ]
    },
    {
     "name": "stderr",
     "output_type": "stream",
     "text": [
      "Neither CUDA nor MPS are available - defaulting to CPU. Note: This module is much faster with a GPU.\n"
     ]
    },
    {
     "name": "stdout",
     "output_type": "stream",
     "text": [
      "Processed: img_269.jpg -> Saved as: processed_images\\71704h00.jpg\n",
      "No license plate detected in train_data\\img_27.jpg.\n",
      "Processed: img_27.jpg -> No license plate detected or unable to read text.\n"
     ]
    },
    {
     "name": "stderr",
     "output_type": "stream",
     "text": [
      "Neither CUDA nor MPS are available - defaulting to CPU. Note: This module is much faster with a GPU.\n"
     ]
    },
    {
     "name": "stdout",
     "output_type": "stream",
     "text": [
      "Processed: img_270.jpg -> Saved as: processed_images\\06978AU00.jpg\n",
      "Processed: img_272.jpg -> Saved as: processed_images\\8904aa07.jpg\n"
     ]
    },
    {
     "name": "stderr",
     "output_type": "stream",
     "text": [
      "Neither CUDA nor MPS are available - defaulting to CPU. Note: This module is much faster with a GPU.\n"
     ]
    },
    {
     "name": "stdout",
     "output_type": "stream",
     "text": [
      "No license plate detected in train_data\\img_274.jpg.\n",
      "Processed: img_274.jpg -> No license plate detected or unable to read text.\n"
     ]
    },
    {
     "name": "stderr",
     "output_type": "stream",
     "text": [
      "Neither CUDA nor MPS are available - defaulting to CPU. Note: This module is much faster with a GPU.\n"
     ]
    },
    {
     "name": "stdout",
     "output_type": "stream",
     "text": [
      "Unable to read license plate text in train_data\\img_277.jpg.\n",
      "Processed: img_277.jpg -> No license plate detected or unable to read text.\n"
     ]
    },
    {
     "name": "stderr",
     "output_type": "stream",
     "text": [
      "Neither CUDA nor MPS are available - defaulting to CPU. Note: This module is much faster with a GPU.\n"
     ]
    },
    {
     "name": "stdout",
     "output_type": "stream",
     "text": [
      "Processed: img_278.jpg -> Saved as: processed_images\\1693AB06.jpg\n",
      "Unable to read license plate text in train_data\\img_279.jpg.\n",
      "Processed: img_279.jpg -> No license plate detected or unable to read text.\n"
     ]
    },
    {
     "name": "stderr",
     "output_type": "stream",
     "text": [
      "Neither CUDA nor MPS are available - defaulting to CPU. Note: This module is much faster with a GPU.\n"
     ]
    }
   ],
   "source": [
    "train_data_dir = \"train_data\"\n",
    "test_data_dir = \"test_data\"\n",
    "output_dir = \"processed_images\"\n",
    "submission_dir = \"submission\"\n",
    "\n",
    "# Create necessary directories\n",
    "os.makedirs(output_dir, exist_ok=True)\n",
    "os.makedirs(submission_dir, exist_ok=True)\n",
    "\n",
    "results = []\n",
    "\n",
    "# Process training data\n",
    "for filename in os.listdir(train_data_dir):\n",
    "    if filename.endswith(\".jpg\") or filename.endswith(\".png\"):\n",
    "        image_path = os.path.join(train_data_dir, filename)\n",
    "        result = process_single_image(image_path, output_dir)\n",
    "\n",
    "        if result:\n",
    "            plate_number, output_filename = result\n",
    "            print(f\"Processed: {filename} -> Saved as: {output_filename}\")\n",
    "            results.append((filename, plate_number))\n",
    "        else:\n",
    "            print(f\"Processed: {filename} -> No license plate detected or unable to read text.\")\n",
    "\n",
    "# Save the results to CSV\n",
    "results_df = pd.DataFrame(results, columns=['img_id', 'plate_number'])\n",
    "results_df.to_csv(os.path.join(submission_dir, 'predictions.csv'), index=False)"
   ]
  },
  {
   "cell_type": "markdown",
   "id": "b8095440-0781-4129-b579-a908aec226d6",
   "metadata": {},
   "source": [
    "<div align=\"center\"><span style=\"font-family:Bahnschrift Condensed;font-size:40px\"><b>Section 5: Loading Data and Labels</b></span></div>"
   ]
  },
  {
   "cell_type": "code",
   "execution_count": null,
   "id": "40303fac-2839-41a8-8ea6-8fddaf22f96f",
   "metadata": {},
   "outputs": [],
   "source": [
    "def load_data_and_labels(data_dir):\n",
    "    images = []\n",
    "    labels = []\n",
    "    for filename in os.listdir(data_dir):\n",
    "        img_path = os.path.join(data_dir, filename)\n",
    "        img = cv2.imread(img_path)\n",
    "        if img is not None:\n",
    "            img = cv2.cvtColor(img, cv2.COLOR_BGR2RGB)\n",
    "            img = cv2.resize(img, (128, 128))\n",
    "            images.append(img)\n",
    "            label = filename.split('_')[0]\n",
    "            labels.append(label)\n",
    "    return np.array(images), np.array(labels)\n",
    "\n",
    "X_train, y_train = load_data_and_labels(output_dir)\n",
    "X_test, y_test = load_data_and_labels(test_data_dir)\n",
    "\n",
    "X_train = X_train / 255.0\n",
    "X_test = X_test / 255.0"
   ]
  },
  {
   "cell_type": "markdown",
   "id": "bd6aaa4f-b3dc-486d-bfd9-fc6b310c0c9e",
   "metadata": {},
   "source": [
    "<div align=\"center\"><span style=\"font-family:Bahnschrift Condensed;font-size:40px\"><b>Section 6: Building and Training the CNN Model</b></span></div>"
   ]
  },
  {
   "cell_type": "code",
   "execution_count": null,
   "id": "6fb3fd2a-a05d-4804-9681-2fba50834542",
   "metadata": {},
   "outputs": [],
   "source": [
    "# Improved model\n",
    "model = Sequential([\n",
    "    Input(shape=(128, 128, 3)),\n",
    "    Conv2D(32, (3, 3), activation='relu', kernel_regularizer=l2(0.01)),\n",
    "    MaxPooling2D((2, 2)),\n",
    "    Dropout(0.25),\n",
    "    Conv2D(64, (3, 3), activation='relu', kernel_regularizer=l2(0.01)),\n",
    "    MaxPooling2D((2, 2)),\n",
    "    Dropout(0.25),\n",
    "    Flatten(),\n",
    "    Dense(128, activation='relu', kernel_regularizer=l2(0.01)),\n",
    "    Dropout(0.5),\n",
    "    Dense(1, activation='sigmoid')\n",
    "])\n",
    "# Compile the model\n",
    "model.compile(optimizer='adam', loss='binary_crossentropy', metrics=['accuracy'])\n",
    "\n",
    "# Split the training data into training and validation sets\n",
    "X_train_split, X_val_split, y_train_split, y_val_split = train_test_split(\n",
    "    X_train, y_train, test_size=0.2, random_state=42)\n",
    "\n",
    "# Augment the training data\n",
    "train_datagen = ImageDataGenerator(\n",
    "    rotation_range=20,\n",
    "    width_shift_range=0.2,\n",
    "    height_shift_range=0.2,\n",
    "    shear_range=0.2,\n",
    "    zoom_range=0.2,\n",
    "    horizontal_flip=True,\n",
    "    fill_mode='nearest'\n",
    ")\n",
    "\n",
    "val_datagen = ImageDataGenerator()  # No augmentation for validation data\n",
    "\n",
    "# Train the model with data augmentation\n",
    "history = model.fit(\n",
    "    train_datagen.flow(X_train_split, y_train_split, batch_size=32),\n",
    "    validation_data=val_datagen.flow(X_val_split, y_val_split),\n",
    "    epochs=10\n",
    ")\n",
    "\n",
    "# Display the model architecture\n",
    "model.summary()"
   ]
  },
  {
   "cell_type": "markdown",
   "id": "26bae988-fa50-4f4f-9789-b6fba7b512f6",
   "metadata": {},
   "source": [
    "<div align=\"center\"><span style=\"font-family:Bahnschrift Condensed;font-size:40px\"><b>Section 7: Evaluating the Model</b></span></div>"
   ]
  },
  {
   "cell_type": "code",
   "execution_count": null,
   "id": "71d5cea1-772c-4ba4-8c1e-da4e8b14843d",
   "metadata": {},
   "outputs": [],
   "source": [
    "# Encoding training labels\n",
    "label_encoder = LabelEncoder()\n",
    "y_train_encoded = label_encoder.fit_transform(y_train)\n",
    "\n",
    "# Diagnose potential label mismatches\n",
    "try:\n",
    "    y_test_transformed = label_encoder.transform(y_test)\n",
    "except ValueError as e:\n",
    "    print(f\"Error transforming y_test: {e}\")\n",
    "    valid_test_indices = [i for i, label in enumerate(y_test) if label in label_encoder.classes_]\n",
    "    y_test_transformed = label_encoder.transform([y_test[i] for i in valid_test_indices])\n",
    "    X_test = X_test[valid_test_indices]\n",
    "\n",
    "# Filter the test data to include only labels present in training data\n",
    "train_labels_set = set(y_train_encoded)\n",
    "filtered_indices = [i for i, label in enumerate(y_test_transformed) if label in train_labels_set]\n",
    "if len(filtered_indices) == 0:\n",
    "    print(\"No matching labels between training and test sets. Skipping evaluation.\")\n",
    "else:\n",
    "    X_test_filtered = X_test[filtered_indices]\n",
    "    y_test_filtered = y_test_transformed[filtered_indices]\n",
    "\n",
    "    # Convert labels to one-hot encoding\n",
    "    num_classes = len(np.unique(y_train_encoded))\n",
    "    y_train_one_hot = to_categorical(y_train_encoded, num_classes)\n",
    "    y_test_one_hot = to_categorical(y_test_filtered, num_classes)\n",
    "\n",
    "    # Evaluate the model on filtered test data\n",
    "    loss, accuracy = model.evaluate(X_test_filtered, y_test_one_hot)\n",
    "    print(f'Loss: {loss}, Accuracy: {accuracy}')\n"
   ]
  },
  {
   "cell_type": "markdown",
   "id": "ade3bd86-e287-445e-a0a4-59c83ce43448",
   "metadata": {},
   "source": [
    "<div align=\"center\"><span style=\"font-family:Bahnschrift Condensed;font-size:40px\"><b>Section 8: Testing the Model on a Single Image</b></span></div>"
   ]
  },
  {
   "cell_type": "code",
   "execution_count": null,
   "id": "23b8c191-d92b-4b11-8603-599889902537",
   "metadata": {},
   "outputs": [],
   "source": [
    "image_path = 'DataChallenge.jpg'\n",
    "image = cv2.imread(image_path)\n",
    "image = cv2.cvtColor(image, cv2.COLOR_BGR2RGB)\n",
    "image = cv2.resize(image, (128, 128))\n",
    "\n",
    "# Normalize the image\n",
    "image = image / 255.0\n",
    "\n",
    "# Make a prediction\n",
    "prediction = model.predict(np.expand_dims(image, axis=0))\n",
    "\n",
    "# Convert probabilities to labels\n",
    "predicted_label = label_encoder.inverse_transform([np.argmax(prediction)])\n",
    "\n",
    "print(f'Predicted label: {predicted_label}')"
   ]
  },
  {
   "cell_type": "markdown",
   "id": "235e8e37-a6cb-4bcd-b62a-df49166c6c2a",
   "metadata": {
    "tags": []
   },
   "source": [
    "<div align=\"center\"><span style=\"font-family:Bahnschrift Condensed;font-size:40px\"><b>Section 9: Advanced License Plate Detection and Visualization</b></span></div>"
   ]
  },
  {
   "cell_type": "code",
   "execution_count": null,
   "id": "ddcfeb37-22d9-49ee-8833-415308f66ded",
   "metadata": {},
   "outputs": [],
   "source": [
    "def process_single_image_advanced(image_path, output_path):\n",
    "    reader = Reader(['en'], gpu=False, verbose=False)\n",
    "    \n",
    "    car = cv2.imread(image_path)\n",
    "    car = cv2.resize(car, (800, 600))\n",
    "    gray = cv2.cvtColor(car, cv2.COLOR_BGR2GRAY)\n",
    "    blur = cv2.GaussianBlur(gray, (5, 5), 0)\n",
    "    edged = cv2.Canny(blur, 50, 200)\n",
    "    cont, _ = cv2.findContours(edged, cv2.RETR_TREE, cv2.CHAIN_APPROX_SIMPLE)\n",
    "    cont = sorted(cont, key=cv2.contourArea, reverse=True)[:5]\n",
    "\n",
    "    plate_cnt = None\n",
    "    for c in cont:\n",
    "        arc = cv2.arcLength(c, True)\n",
    "        approx = cv2.approxPolyDP(c, 0.02 * arc, True)\n",
    "        if len(approx) == 4:\n",
    "            plate_cnt = approx\n",
    "            break\n",
    "\n",
    "    if plate_cnt is None:\n",
    "        print(\"No license plate detected.\")\n",
    "        return\n",
    "\n",
    "    warped_plate = four_point_transform(gray, plate_cnt.reshape(4, 2))\n",
    "    plate = cv2.resize(warped_plate, None, fx=2, fy=2, interpolation=cv2.INTER_CUBIC)\n",
    "    plate = cv2.equalizeHist(plate)\n",
    "    kernel = cv2.getStructuringElement(cv2.MORPH_RECT, (3, 3))\n",
    "    plate = cv2.morphologyEx(plate, cv2.MORPH_CLOSE, kernel)\n",
    "    detection = reader.readtext(plate)\n",
    "\n",
    "    if len(detection) == 0:\n",
    "        text = \"Impossible de lire le texte de la plaque d'immatriculation\"\n",
    "        cv2.putText(car, text, (20, 40), cv2.FONT_HERSHEY_SIMPLEX, 0.75, (0, 0, 255), 3)\n",
    "    else:\n",
    "        text = detection[0][1]\n",
    "        filtered_text = ''.join([c for c in text if c.isalnum()])\n",
    "        if len(filtered_text) > 8:\n",
    "            filtered_text = filtered_text[:8]\n",
    "        cv2.drawContours(car, [plate_cnt], -1, (0, 255, 0), 3)\n",
    "        display_text = f\"{filtered_text} ({detection[0][2] * 100:.2f}%)\"\n",
    "        cv2.putText(car, display_text, (plate_cnt[0][0][0], plate_cnt[0][0][1] - 20), cv2.FONT_HERSHEY_SIMPLEX, 0.75, (0, 255, 0), 2)\n",
    "        print(display_text)\n",
    "\n",
    "    cv2.imwrite(output_path, car)\n",
    "    cv2.imwrite('warped_plate.jpg', plate)\n",
    "\n",
    "# Test with a single image\n",
    "process_single_image_advanced('hamada.jpg', 'annotated_test.jpg')\n",
    "\n",
    "# Display images with matplotlib\n",
    "annotated_image = cv2.imread('annotated_test.jpg')\n",
    "warped_plate = cv2.imread('warped_plate.jpg', cv2.IMREAD_GRAYSCALE)\n",
    "\n",
    "plt.figure(figsize=(10, 8))\n",
    "plt.subplot(1, 2, 1)\n",
    "plt.imshow(warped_plate, cmap='gray')\n",
    "plt.title('License Plate')\n",
    "plt.axis('off')\n",
    "\n",
    "plt.subplot(1, 2, 2)\n",
    "plt.imshow(cv2.cvtColor(annotated_image, cv2.COLOR_BGR2RGB))\n",
    "plt.title('Annotated Image')\n",
    "plt.axis('off')\n",
    "\n",
    "plt.show()"
   ]
  },
  {
   "cell_type": "code",
   "execution_count": null,
   "id": "41e0c349-05ab-4a9b-9bd9-33480763aead",
   "metadata": {},
   "outputs": [],
   "source": []
  }
 ],
 "metadata": {
  "kernelspec": {
   "display_name": "Python 3 (ipykernel)",
   "language": "python",
   "name": "python3"
  },
  "language_info": {
   "codemirror_mode": {
    "name": "ipython",
    "version": 3
   },
   "file_extension": ".py",
   "mimetype": "text/x-python",
   "name": "python",
   "nbconvert_exporter": "python",
   "pygments_lexer": "ipython3",
   "version": "3.11.5"
  }
 },
 "nbformat": 4,
 "nbformat_minor": 5
}
